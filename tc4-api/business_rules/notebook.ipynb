{
 "cells": [
  {
   "cell_type": "code",
   "execution_count": 1,
   "metadata": {},
   "outputs": [],
   "source": [
    "from neuralforecast import NeuralForecast\n",
    "import joblib\n",
    "import os\n",
    "os.chdir('..')\n",
    "from src.utils import setLog\n",
    "import pandas as pd\n",
    "from datetime import datetime\n",
    "from deltalake import DeltaTable\n",
    "import matplotlib.pyplot as plt\n",
    "import polars as pl"
   ]
  },
  {
   "cell_type": "code",
   "execution_count": 2,
   "metadata": {},
   "outputs": [
    {
     "data": {
      "text/plain": [
       "'/home/thales/postech/phase4/mle-tech-challenge-4/tc4-api'"
      ]
     },
     "execution_count": 2,
     "metadata": {},
     "output_type": "execute_result"
    }
   ],
   "source": [
    "os.getcwd()"
   ]
  },
  {
   "cell_type": "code",
   "execution_count": 3,
   "metadata": {},
   "outputs": [],
   "source": [
    "logger = setLog('model')"
   ]
  },
  {
   "cell_type": "code",
   "execution_count": 6,
   "metadata": {},
   "outputs": [],
   "source": [
    "def load_model(model_file : str) -> NeuralForecast :\n",
    "    '''    \n",
    "    Carrega o modelo treinado a partir do arquivo informado.\n",
    "\n",
    "    Parameters:\n",
    "\n",
    "        model_file (str) : Nome do modelo a ser usado na previsão.\n",
    "\n",
    "    Returns:\n",
    "    \n",
    "        model : Modelo carregado usando a biblioteca joblib.\n",
    "    '''\n",
    "    logger.info(f'Validando a existência do modelo treinado : {model_file}')\n",
    "    \n",
    "    if os.path.exists(f'../ml_models/{model_file}'):\n",
    "        logger.info(f'Modelo {model_file} encontrado na pasta ml_models.')\n",
    "        return joblib.load(f'../ml_models/{model_file}')\n",
    "    else:\n",
    "        logger.error(f'Arquivo {model_file} não encontrado na pasta ml_models. Verifique o nome do modelo.')\n",
    "        raise ValueError(f'Arquivo {model_file} não encontrado! Verifique o nome do modelo e tente novamente!')"
   ]
  },
  {
   "cell_type": "code",
   "execution_count": 23,
   "metadata": {},
   "outputs": [
    {
     "name": "stderr",
     "output_type": "stream",
     "text": [
      "2025-02-04 21:26:32,771 - model - INFO - Validando a existência do modelo treinado : neuralforecast_lstm_2025-01-30.joblib\n",
      "2025-02-04 21:26:32,773 - model - INFO - Modelo neuralforecast_lstm_2025-01-30.joblib encontrado na pasta ml_models.\n",
      "2025-02-04 21:26:32,814 - model - INFO - Modelo neuralforecast_lstm_2025-01-30.joblib carregado. Tipo do modelo <class 'neuralforecast.core.NeuralForecast'>\n"
     ]
    }
   ],
   "source": [
    "model_file = 'neuralforecast_lstm_2025-01-30.joblib'\n",
    "model : NeuralForecast = load_model(model_file)\n",
    "logger.info(f'Modelo {model_file} carregado. Tipo do modelo {type(model)}')\n"
   ]
  },
  {
   "cell_type": "code",
   "execution_count": 8,
   "metadata": {},
   "outputs": [
    {
     "name": "stderr",
     "output_type": "stream",
     "text": [
      "2025-02-04 21:22:00,850 - model - INFO - Realizando previsões utilizando o horizonte definido no treinamento do modelo.\n",
      "GPU available: True (cuda), used: True\n",
      "TPU available: False, using: 0 TPU cores\n",
      "HPU available: False, using: 0 HPUs\n",
      "You are using a CUDA device ('NVIDIA GeForce RTX 4070 Laptop GPU') that has Tensor Cores. To properly utilize them, you should set `torch.set_float32_matmul_precision('medium' | 'high')` which will trade-off precision for performance. For more details, read https://pytorch.org/docs/stable/generated/torch.set_float32_matmul_precision.html#torch.set_float32_matmul_precision\n",
      "LOCAL_RANK: 0 - CUDA_VISIBLE_DEVICES: [0]\n"
     ]
    },
    {
     "data": {
      "application/vnd.jupyter.widget-view+json": {
       "model_id": "e25bf46978154a559063c2fe68b002b3",
       "version_major": 2,
       "version_minor": 0
      },
      "text/plain": [
       "Predicting: |          | 0/? [00:00<?, ?it/s]"
      ]
     },
     "metadata": {},
     "output_type": "display_data"
    }
   ],
   "source": [
    "\n",
    "logger.info('Realizando previsões utilizando o horizonte definido no treinamento do modelo.')\n",
    "predict_result : pd.DataFrame = model.predict()\n"
   ]
  },
  {
   "cell_type": "code",
   "execution_count": 24,
   "metadata": {},
   "outputs": [
    {
     "data": {
      "text/html": [
       "<div>\n",
       "<style scoped>\n",
       "    .dataframe tbody tr th:only-of-type {\n",
       "        vertical-align: middle;\n",
       "    }\n",
       "\n",
       "    .dataframe tbody tr th {\n",
       "        vertical-align: top;\n",
       "    }\n",
       "\n",
       "    .dataframe thead th {\n",
       "        text-align: right;\n",
       "    }\n",
       "</style>\n",
       "<table border=\"1\" class=\"dataframe\">\n",
       "  <thead>\n",
       "    <tr style=\"text-align: right;\">\n",
       "      <th></th>\n",
       "      <th>unique_id</th>\n",
       "      <th>ds</th>\n",
       "      <th>LSTM</th>\n",
       "    </tr>\n",
       "  </thead>\n",
       "  <tbody>\n",
       "    <tr>\n",
       "      <th>0</th>\n",
       "      <td>WEGE3.SA</td>\n",
       "      <td>2025-02-01</td>\n",
       "      <td>52.364040</td>\n",
       "    </tr>\n",
       "    <tr>\n",
       "      <th>1</th>\n",
       "      <td>WEGE3.SA</td>\n",
       "      <td>2025-02-02</td>\n",
       "      <td>51.475018</td>\n",
       "    </tr>\n",
       "    <tr>\n",
       "      <th>2</th>\n",
       "      <td>WEGE3.SA</td>\n",
       "      <td>2025-02-03</td>\n",
       "      <td>52.254383</td>\n",
       "    </tr>\n",
       "    <tr>\n",
       "      <th>3</th>\n",
       "      <td>WEGE3.SA</td>\n",
       "      <td>2025-02-04</td>\n",
       "      <td>52.672131</td>\n",
       "    </tr>\n",
       "    <tr>\n",
       "      <th>4</th>\n",
       "      <td>WEGE3.SA</td>\n",
       "      <td>2025-02-05</td>\n",
       "      <td>53.265884</td>\n",
       "    </tr>\n",
       "    <tr>\n",
       "      <th>...</th>\n",
       "      <td>...</td>\n",
       "      <td>...</td>\n",
       "      <td>...</td>\n",
       "    </tr>\n",
       "    <tr>\n",
       "      <th>72</th>\n",
       "      <td>WEGE3.SA</td>\n",
       "      <td>2025-04-14</td>\n",
       "      <td>53.669323</td>\n",
       "    </tr>\n",
       "    <tr>\n",
       "      <th>73</th>\n",
       "      <td>WEGE3.SA</td>\n",
       "      <td>2025-04-15</td>\n",
       "      <td>54.342106</td>\n",
       "    </tr>\n",
       "    <tr>\n",
       "      <th>74</th>\n",
       "      <td>WEGE3.SA</td>\n",
       "      <td>2025-04-16</td>\n",
       "      <td>52.840630</td>\n",
       "    </tr>\n",
       "    <tr>\n",
       "      <th>75</th>\n",
       "      <td>WEGE3.SA</td>\n",
       "      <td>2025-04-17</td>\n",
       "      <td>54.466328</td>\n",
       "    </tr>\n",
       "    <tr>\n",
       "      <th>76</th>\n",
       "      <td>WEGE3.SA</td>\n",
       "      <td>2025-04-18</td>\n",
       "      <td>53.689232</td>\n",
       "    </tr>\n",
       "  </tbody>\n",
       "</table>\n",
       "<p>77 rows × 3 columns</p>\n",
       "</div>"
      ],
      "text/plain": [
       "   unique_id         ds       LSTM\n",
       "0   WEGE3.SA 2025-02-01  52.364040\n",
       "1   WEGE3.SA 2025-02-02  51.475018\n",
       "2   WEGE3.SA 2025-02-03  52.254383\n",
       "3   WEGE3.SA 2025-02-04  52.672131\n",
       "4   WEGE3.SA 2025-02-05  53.265884\n",
       "..       ...        ...        ...\n",
       "72  WEGE3.SA 2025-04-14  53.669323\n",
       "73  WEGE3.SA 2025-04-15  54.342106\n",
       "74  WEGE3.SA 2025-04-16  52.840630\n",
       "75  WEGE3.SA 2025-04-17  54.466328\n",
       "76  WEGE3.SA 2025-04-18  53.689232\n",
       "\n",
       "[77 rows x 3 columns]"
      ]
     },
     "execution_count": 24,
     "metadata": {},
     "output_type": "execute_result"
    }
   ],
   "source": [
    "predict_result"
   ]
  },
  {
   "cell_type": "code",
   "execution_count": 32,
   "metadata": {},
   "outputs": [
    {
     "name": "stderr",
     "output_type": "stream",
     "text": [
      "2025-02-04 21:29:30,436 - model - INFO - Resultado da previsão:    unique_id         ds       LSTM\n",
      "0   WEGE3.SA 2025-02-01  52.364040\n",
      "1   WEGE3.SA 2025-02-02  51.475018\n",
      "2   WEGE3.SA 2025-02-03  52.254383\n",
      "3   WEGE3.SA 2025-02-04  52.672131\n",
      "4   WEGE3.SA 2025-02-05  53.265884\n",
      "..       ...        ...        ...\n",
      "72  WEGE3.SA 2025-04-14  53.669323\n",
      "73  WEGE3.SA 2025-04-15  54.342106\n",
      "74  WEGE3.SA 2025-04-16  52.840630\n",
      "75  WEGE3.SA 2025-04-17  54.466328\n",
      "76  WEGE3.SA 2025-04-18  53.689232\n",
      "\n",
      "[77 rows x 3 columns]\n"
     ]
    }
   ],
   "source": [
    "stock_option = 'WEGE3.SA'\n",
    "plot_df : pd.DataFrame = predict_result[predict_result.unique_id==stock_option].drop('unique_id', axis=1)\n",
    "\n",
    "logger.info(f'Resultado da previsão: {predict_result}')\n"
   ]
  },
  {
   "cell_type": "code",
   "execution_count": 22,
   "metadata": {},
   "outputs": [
    {
     "data": {
      "text/html": [
       "<div>\n",
       "<style scoped>\n",
       "    .dataframe tbody tr th:only-of-type {\n",
       "        vertical-align: middle;\n",
       "    }\n",
       "\n",
       "    .dataframe tbody tr th {\n",
       "        vertical-align: top;\n",
       "    }\n",
       "\n",
       "    .dataframe thead th {\n",
       "        text-align: right;\n",
       "    }\n",
       "</style>\n",
       "<table border=\"1\" class=\"dataframe\">\n",
       "  <thead>\n",
       "    <tr style=\"text-align: right;\">\n",
       "      <th></th>\n",
       "      <th>unique_id</th>\n",
       "      <th>ds</th>\n",
       "      <th>LSTM</th>\n",
       "    </tr>\n",
       "  </thead>\n",
       "  <tbody>\n",
       "    <tr>\n",
       "      <th>0</th>\n",
       "      <td>WEGE3.SA</td>\n",
       "      <td>2025-02-01</td>\n",
       "      <td>52.364040</td>\n",
       "    </tr>\n",
       "    <tr>\n",
       "      <th>1</th>\n",
       "      <td>WEGE3.SA</td>\n",
       "      <td>2025-02-02</td>\n",
       "      <td>51.475018</td>\n",
       "    </tr>\n",
       "    <tr>\n",
       "      <th>2</th>\n",
       "      <td>WEGE3.SA</td>\n",
       "      <td>2025-02-03</td>\n",
       "      <td>52.254383</td>\n",
       "    </tr>\n",
       "    <tr>\n",
       "      <th>3</th>\n",
       "      <td>WEGE3.SA</td>\n",
       "      <td>2025-02-04</td>\n",
       "      <td>52.672131</td>\n",
       "    </tr>\n",
       "    <tr>\n",
       "      <th>4</th>\n",
       "      <td>WEGE3.SA</td>\n",
       "      <td>2025-02-05</td>\n",
       "      <td>53.265884</td>\n",
       "    </tr>\n",
       "    <tr>\n",
       "      <th>...</th>\n",
       "      <td>...</td>\n",
       "      <td>...</td>\n",
       "      <td>...</td>\n",
       "    </tr>\n",
       "    <tr>\n",
       "      <th>72</th>\n",
       "      <td>WEGE3.SA</td>\n",
       "      <td>2025-04-14</td>\n",
       "      <td>53.669323</td>\n",
       "    </tr>\n",
       "    <tr>\n",
       "      <th>73</th>\n",
       "      <td>WEGE3.SA</td>\n",
       "      <td>2025-04-15</td>\n",
       "      <td>54.342106</td>\n",
       "    </tr>\n",
       "    <tr>\n",
       "      <th>74</th>\n",
       "      <td>WEGE3.SA</td>\n",
       "      <td>2025-04-16</td>\n",
       "      <td>52.840630</td>\n",
       "    </tr>\n",
       "    <tr>\n",
       "      <th>75</th>\n",
       "      <td>WEGE3.SA</td>\n",
       "      <td>2025-04-17</td>\n",
       "      <td>54.466328</td>\n",
       "    </tr>\n",
       "    <tr>\n",
       "      <th>76</th>\n",
       "      <td>WEGE3.SA</td>\n",
       "      <td>2025-04-18</td>\n",
       "      <td>53.689232</td>\n",
       "    </tr>\n",
       "  </tbody>\n",
       "</table>\n",
       "<p>77 rows × 3 columns</p>\n",
       "</div>"
      ],
      "text/plain": [
       "   unique_id         ds       LSTM\n",
       "0   WEGE3.SA 2025-02-01  52.364040\n",
       "1   WEGE3.SA 2025-02-02  51.475018\n",
       "2   WEGE3.SA 2025-02-03  52.254383\n",
       "3   WEGE3.SA 2025-02-04  52.672131\n",
       "4   WEGE3.SA 2025-02-05  53.265884\n",
       "..       ...        ...        ...\n",
       "72  WEGE3.SA 2025-04-14  53.669323\n",
       "73  WEGE3.SA 2025-04-15  54.342106\n",
       "74  WEGE3.SA 2025-04-16  52.840630\n",
       "75  WEGE3.SA 2025-04-17  54.466328\n",
       "76  WEGE3.SA 2025-04-18  53.689232\n",
       "\n",
       "[77 rows x 3 columns]"
      ]
     },
     "execution_count": 22,
     "metadata": {},
     "output_type": "execute_result"
    }
   ],
   "source": [
    "predict_result"
   ]
  },
  {
   "cell_type": "code",
   "execution_count": 46,
   "metadata": {},
   "outputs": [
    {
     "name": "stderr",
     "output_type": "stream",
     "text": [
      "2025-02-04 21:38:25,374 - model - INFO - Dados do deltalake carregados. Tamanho do dataset: 6299\n"
     ]
    }
   ],
   "source": [
    "df_hist = pl.read_delta('../deltalake',version=3).to_pandas()\n",
    "df_hist = df_hist.sort_values(by=['unique_id', 'ds']).reset_index(drop=True)\n",
    "logger.info(f'Dados do deltalake carregados. Tamanho do dataset: {len(df_hist)}')\n"
   ]
  },
  {
   "cell_type": "code",
   "execution_count": 47,
   "metadata": {},
   "outputs": [
    {
     "data": {
      "text/plain": [
       "array(['ABEV3.SA'], dtype=object)"
      ]
     },
     "execution_count": 47,
     "metadata": {},
     "output_type": "execute_result"
    }
   ],
   "source": [
    "df_hist['unique_id'].unique()"
   ]
  },
  {
   "cell_type": "code",
   "execution_count": 34,
   "metadata": {},
   "outputs": [
    {
     "name": "stderr",
     "output_type": "stream",
     "text": [
      "2025-02-04 21:29:42,629 - model - INFO - Dados após a remoção de duplicatas. Tamanho do dataset: 6299\n"
     ]
    }
   ],
   "source": [
    "\n",
    "df_hist.drop_duplicates(subset=['ds', 'unique_id'], inplace=True)\n",
    "logger.info(f'Dados após a remoção de duplicatas. Tamanho do dataset: {len(df_hist)}')\n"
   ]
  },
  {
   "cell_type": "code",
   "execution_count": 35,
   "metadata": {},
   "outputs": [
    {
     "name": "stderr",
     "output_type": "stream",
     "text": [
      "2025-02-04 21:29:47,767 - model - DEBUG - Header histórico:\n",
      "(169, 3)\n",
      "2025-02-04 21:29:47,769 - model - DEBUG - Header previsto:\n",
      "(77, 3)\n"
     ]
    }
   ],
   "source": [
    "\n",
    "df_hist = df_hist[df_hist['ds'] >= '2024-06-01']\n",
    "logger.debug(f'Header histórico:\\n{df_hist.shape}')\n",
    "logger.debug(f'Header previsto:\\n{predict_result.shape}')\n",
    "\n"
   ]
  },
  {
   "cell_type": "code",
   "execution_count": 36,
   "metadata": {},
   "outputs": [
    {
     "name": "stderr",
     "output_type": "stream",
     "text": [
      "2025-02-04 21:29:51,164 - model - DEBUG - Dados concatenados : \n",
      "(246, 4)\n"
     ]
    }
   ],
   "source": [
    "plot_df = pd.concat([df_hist, plot_df])\n",
    "logger.debug(f'Dados concatenados : \\n{plot_df.shape}')\n",
    "\n",
    "\n"
   ]
  },
  {
   "cell_type": "code",
   "execution_count": 37,
   "metadata": {},
   "outputs": [
    {
     "data": {
      "text/html": [
       "<div>\n",
       "<style scoped>\n",
       "    .dataframe tbody tr th:only-of-type {\n",
       "        vertical-align: middle;\n",
       "    }\n",
       "\n",
       "    .dataframe tbody tr th {\n",
       "        vertical-align: top;\n",
       "    }\n",
       "\n",
       "    .dataframe thead th {\n",
       "        text-align: right;\n",
       "    }\n",
       "</style>\n",
       "<table border=\"1\" class=\"dataframe\">\n",
       "  <thead>\n",
       "    <tr style=\"text-align: right;\">\n",
       "      <th></th>\n",
       "      <th>ds</th>\n",
       "      <th>y</th>\n",
       "      <th>unique_id</th>\n",
       "      <th>LSTM</th>\n",
       "    </tr>\n",
       "  </thead>\n",
       "  <tbody>\n",
       "    <tr>\n",
       "      <th>6130</th>\n",
       "      <td>2024-06-03</td>\n",
       "      <td>37.044369</td>\n",
       "      <td>WEGE3.SA</td>\n",
       "      <td>NaN</td>\n",
       "    </tr>\n",
       "    <tr>\n",
       "      <th>6131</th>\n",
       "      <td>2024-06-04</td>\n",
       "      <td>37.500725</td>\n",
       "      <td>WEGE3.SA</td>\n",
       "      <td>NaN</td>\n",
       "    </tr>\n",
       "    <tr>\n",
       "      <th>6132</th>\n",
       "      <td>2024-06-05</td>\n",
       "      <td>37.242783</td>\n",
       "      <td>WEGE3.SA</td>\n",
       "      <td>NaN</td>\n",
       "    </tr>\n",
       "    <tr>\n",
       "      <th>6133</th>\n",
       "      <td>2024-06-06</td>\n",
       "      <td>37.510647</td>\n",
       "      <td>WEGE3.SA</td>\n",
       "      <td>NaN</td>\n",
       "    </tr>\n",
       "    <tr>\n",
       "      <th>6134</th>\n",
       "      <td>2024-06-07</td>\n",
       "      <td>37.550327</td>\n",
       "      <td>WEGE3.SA</td>\n",
       "      <td>NaN</td>\n",
       "    </tr>\n",
       "    <tr>\n",
       "      <th>...</th>\n",
       "      <td>...</td>\n",
       "      <td>...</td>\n",
       "      <td>...</td>\n",
       "      <td>...</td>\n",
       "    </tr>\n",
       "    <tr>\n",
       "      <th>72</th>\n",
       "      <td>2025-04-14</td>\n",
       "      <td>NaN</td>\n",
       "      <td>NaN</td>\n",
       "      <td>53.669323</td>\n",
       "    </tr>\n",
       "    <tr>\n",
       "      <th>73</th>\n",
       "      <td>2025-04-15</td>\n",
       "      <td>NaN</td>\n",
       "      <td>NaN</td>\n",
       "      <td>54.342106</td>\n",
       "    </tr>\n",
       "    <tr>\n",
       "      <th>74</th>\n",
       "      <td>2025-04-16</td>\n",
       "      <td>NaN</td>\n",
       "      <td>NaN</td>\n",
       "      <td>52.840630</td>\n",
       "    </tr>\n",
       "    <tr>\n",
       "      <th>75</th>\n",
       "      <td>2025-04-17</td>\n",
       "      <td>NaN</td>\n",
       "      <td>NaN</td>\n",
       "      <td>54.466328</td>\n",
       "    </tr>\n",
       "    <tr>\n",
       "      <th>76</th>\n",
       "      <td>2025-04-18</td>\n",
       "      <td>NaN</td>\n",
       "      <td>NaN</td>\n",
       "      <td>53.689232</td>\n",
       "    </tr>\n",
       "  </tbody>\n",
       "</table>\n",
       "<p>246 rows × 4 columns</p>\n",
       "</div>"
      ],
      "text/plain": [
       "             ds          y unique_id       LSTM\n",
       "6130 2024-06-03  37.044369  WEGE3.SA        NaN\n",
       "6131 2024-06-04  37.500725  WEGE3.SA        NaN\n",
       "6132 2024-06-05  37.242783  WEGE3.SA        NaN\n",
       "6133 2024-06-06  37.510647  WEGE3.SA        NaN\n",
       "6134 2024-06-07  37.550327  WEGE3.SA        NaN\n",
       "...         ...        ...       ...        ...\n",
       "72   2025-04-14        NaN       NaN  53.669323\n",
       "73   2025-04-15        NaN       NaN  54.342106\n",
       "74   2025-04-16        NaN       NaN  52.840630\n",
       "75   2025-04-17        NaN       NaN  54.466328\n",
       "76   2025-04-18        NaN       NaN  53.689232\n",
       "\n",
       "[246 rows x 4 columns]"
      ]
     },
     "execution_count": 37,
     "metadata": {},
     "output_type": "execute_result"
    }
   ],
   "source": [
    "plot_df"
   ]
  },
  {
   "cell_type": "code",
   "execution_count": 39,
   "metadata": {},
   "outputs": [
    {
     "name": "stderr",
     "output_type": "stream",
     "text": [
      "2025-02-04 21:30:11,048 - model - INFO - Gerando plot para as previsões de WEGE3.SA\n",
      "2025-02-04 21:30:11,057 - model - INFO - Imagem do plot salva em ../reports/neuralforecast_lstm_WEGE3.SA_2025-02-04.png\n"
     ]
    }
   ],
   "source": [
    "logger.info(f'Gerando plot para as previsões de {stock_option}')\n",
    "plt.plot(df_hist['ds'], df_hist['y'], c='black', label=f'Valores históricos para {stock_option}')\n",
    "plt.plot(plot_df['ds'], plot_df['LSTM'], c='purple', label=f'Previsões para {stock_option}')\n",
    "plt.legend()\n",
    "plt.grid()\n",
    "plt.plot()\n",
    "\n",
    "plot_name : str = f'../reports/neuralforecast_lstm_{stock_option}_{datetime.now().date()}.png'\n",
    "\n",
    "logger.info(f'Imagem do plot salva em {plot_name}')\n",
    "plt.savefig(plot_name, dpi=300)\n",
    "plt.close()"
   ]
  }
 ],
 "metadata": {
  "kernelspec": {
   "display_name": ".venv",
   "language": "python",
   "name": "python3"
  },
  "language_info": {
   "codemirror_mode": {
    "name": "ipython",
    "version": 3
   },
   "file_extension": ".py",
   "mimetype": "text/x-python",
   "name": "python",
   "nbconvert_exporter": "python",
   "pygments_lexer": "ipython3",
   "version": "3.11.10"
  }
 },
 "nbformat": 4,
 "nbformat_minor": 2
}
