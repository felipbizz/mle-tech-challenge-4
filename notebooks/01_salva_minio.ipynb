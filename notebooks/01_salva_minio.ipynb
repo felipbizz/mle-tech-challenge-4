{
 "cells": [
  {
   "cell_type": "markdown",
   "metadata": {},
   "source": [
    "INFO: Formatting 1st pool, 1 set(s), 1 drives per set.\n",
    "INFO: WARNING: Host local has more than 0 drives of set. A host failure will result in data becoming unavailable.\n",
    "MinIO Object Storage Server\n",
    "Copyright: 2015-2024 MinIO, Inc.\n",
    "License: GNU AGPLv3 - https://www.gnu.org/licenses/agpl-3.0.html\n",
    "Version: RELEASE.2024-12-18T13-15-44Z (go1.23.4 windows/amd64)\n",
    "\n",
    "API: http://192.168.0.125:9000  http://172.23.96.1:9000  http://127.0.0.1:9000\n",
    "   RootUser: minioadmin\n",
    "   RootPass: minioadmin\n",
    "\n",
    "WebUI: http://192.168.0.125:58320 http://172.23.96.1:58320 http://127.0.0.1:58320\n",
    "   RootUser: minioadmin\n",
    "   RootPass: minioadmin\n",
    "\n",
    "CLI: https://min.io/docs/minio/linux/reference/minio-mc.html#quickstart\n",
    "   $ mc alias set 'myminio' 'http://192.168.0.125:9000' 'minioadmin' 'minioadmin'\n",
    "\n",
    "Docs: https://docs.min.io\n",
    "WARN: Detected default credentials 'minioadmin:minioadmin', we recommend that you change these values with 'MINIO_ROOT_USER' and 'MINIO_ROOT_PASSWORD' environment variables"
   ]
  },
  {
   "cell_type": "code",
   "execution_count": 1,
   "metadata": {},
   "outputs": [],
   "source": [
    "import os\n",
    "\n",
    "if os.path.basename(os.getcwd()) == \"notebooks\":\n",
    "    os.chdir(\"..\")\n",
    "\n",
    "\n",
    "from config.config import settings"
   ]
  },
  {
   "cell_type": "code",
   "execution_count": 2,
   "metadata": {},
   "outputs": [],
   "source": [
    "from deltalake import write_deltalake"
   ]
  },
  {
   "cell_type": "code",
   "execution_count": null,
   "metadata": {},
   "outputs": [],
   "source": []
  },
  {
   "cell_type": "code",
   "execution_count": 3,
   "metadata": {},
   "outputs": [],
   "source": [
    "minio_config = {\n",
    "    \"endpoint_url\": settings.minio_url,\n",
    "    \"AWS_ACCESS_KEY_ID\": settings.access_key,\n",
    "    \"AWS_SECRET_ACCESS_KEY\": settings.secret_key,\n",
    "}"
   ]
  },
  {
   "cell_type": "code",
   "execution_count": 5,
   "metadata": {},
   "outputs": [
    {
     "name": "stderr",
     "output_type": "stream",
     "text": [
      "\u001b[90m[\u001b[0m2024-12-22T11:48:40Z \u001b[33mWARN \u001b[0m aws_config::imds::region\u001b[90m]\u001b[0m failed to load region from IMDS err=failed to load IMDS session token: dispatch failure: timeout: error trying to connect: HTTP connect timeout occurred after 1s: HTTP connect timeout occurred after 1s: timed out (FailedToLoadToken(FailedToLoadToken { source: DispatchFailure(DispatchFailure { source: ConnectorError { kind: Timeout, source: hyper::Error(Connect, HttpTimeoutError { kind: \"HTTP connect\", duration: 1s }), connection: Unknown } }) }))\n",
      "\u001b[90m[\u001b[0m2024-12-22T11:48:41Z \u001b[33mWARN \u001b[0m aws_config::imds::region\u001b[90m]\u001b[0m failed to load region from IMDS err=failed to load IMDS session token: dispatch failure: timeout: error trying to connect: HTTP connect timeout occurred after 1s: HTTP connect timeout occurred after 1s: timed out (FailedToLoadToken(FailedToLoadToken { source: DispatchFailure(DispatchFailure { source: ConnectorError { kind: Timeout, source: hyper::Error(Connect, HttpTimeoutError { kind: \"HTTP connect\", duration: 1s }), connection: Unknown } }) }))\n",
      "\u001b[90m[\u001b[0m2024-12-22T11:48:42Z \u001b[33mWARN \u001b[0m aws_config::imds::region\u001b[90m]\u001b[0m failed to load region from IMDS err=failed to load IMDS session token: dispatch failure: timeout: error trying to connect: HTTP connect timeout occurred after 1s: HTTP connect timeout occurred after 1s: timed out (FailedToLoadToken(FailedToLoadToken { source: DispatchFailure(DispatchFailure { source: ConnectorError { kind: Timeout, source: hyper::Error(Connect, HttpTimeoutError { kind: \"HTTP connect\", duration: 1s }), connection: Unknown } }) }))\n",
      "\u001b[90m[\u001b[0m2024-12-22T11:48:43Z \u001b[33mWARN \u001b[0m aws_config::imds::region\u001b[90m]\u001b[0m failed to load region from IMDS err=failed to load IMDS session token: dispatch failure: timeout: error trying to connect: HTTP connect timeout occurred after 1s: HTTP connect timeout occurred after 1s: timed out (FailedToLoadToken(FailedToLoadToken { source: DispatchFailure(DispatchFailure { source: ConnectorError { kind: Timeout, source: hyper::Error(Connect, HttpTimeoutError { kind: \"HTTP connect\", duration: 1s }), connection: Unknown } }) }))\n",
      "\u001b[90m[\u001b[0m2024-12-22T11:48:44Z \u001b[33mWARN \u001b[0m aws_config::imds::region\u001b[90m]\u001b[0m failed to load region from IMDS err=failed to load IMDS session token: dispatch failure: timeout: error trying to connect: HTTP connect timeout occurred after 1s: HTTP connect timeout occurred after 1s: timed out (FailedToLoadToken(FailedToLoadToken { source: DispatchFailure(DispatchFailure { source: ConnectorError { kind: Timeout, source: hyper::Error(Connect, HttpTimeoutError { kind: \"HTTP connect\", duration: 1s }), connection: Unknown } }) }))\n",
      "\u001b[90m[\u001b[0m2024-12-22T11:48:45Z \u001b[33mWARN \u001b[0m aws_config::imds::region\u001b[90m]\u001b[0m failed to load region from IMDS err=failed to load IMDS session token: dispatch failure: timeout: error trying to connect: HTTP connect timeout occurred after 1s: HTTP connect timeout occurred after 1s: timed out (FailedToLoadToken(FailedToLoadToken { source: DispatchFailure(DispatchFailure { source: ConnectorError { kind: Timeout, source: hyper::Error(Connect, HttpTimeoutError { kind: \"HTTP connect\", duration: 1s }), connection: Unknown } }) }))\n",
      "\u001b[90m[\u001b[0m2024-12-22T11:48:46Z \u001b[33mWARN \u001b[0m aws_config::imds::region\u001b[90m]\u001b[0m failed to load region from IMDS err=failed to load IMDS session token: dispatch failure: timeout: error trying to connect: HTTP connect timeout occurred after 1s: HTTP connect timeout occurred after 1s: timed out (FailedToLoadToken(FailedToLoadToken { source: DispatchFailure(DispatchFailure { source: ConnectorError { kind: Timeout, source: hyper::Error(Connect, HttpTimeoutError { kind: \"HTTP connect\", duration: 1s }), connection: Unknown } }) }))\n",
      "\u001b[90m[\u001b[0m2024-12-22T11:48:47Z \u001b[33mWARN \u001b[0m aws_config::imds::region\u001b[90m]\u001b[0m failed to load region from IMDS err=failed to load IMDS session token: dispatch failure: timeout: error trying to connect: HTTP connect timeout occurred after 1s: HTTP connect timeout occurred after 1s: timed out (FailedToLoadToken(FailedToLoadToken { source: DispatchFailure(DispatchFailure { source: ConnectorError { kind: Timeout, source: hyper::Error(Connect, HttpTimeoutError { kind: \"HTTP connect\", duration: 1s }), connection: Unknown } }) }))\n",
      "\u001b[90m[\u001b[0m2024-12-22T11:48:48Z \u001b[33mWARN \u001b[0m aws_config::imds::region\u001b[90m]\u001b[0m failed to load region from IMDS err=failed to load IMDS session token: dispatch failure: timeout: error trying to connect: HTTP connect timeout occurred after 1s: HTTP connect timeout occurred after 1s: timed out (FailedToLoadToken(FailedToLoadToken { source: DispatchFailure(DispatchFailure { source: ConnectorError { kind: Timeout, source: hyper::Error(Connect, HttpTimeoutError { kind: \"HTTP connect\", duration: 1s }), connection: Unknown } }) }))\n"
     ]
    },
    {
     "ename": "KeyboardInterrupt",
     "evalue": "",
     "output_type": "error",
     "traceback": [
      "\u001b[0;31m---------------------------------------------------------------------------\u001b[0m",
      "\u001b[0;31mOSError\u001b[0m                                   Traceback (most recent call last)",
      "    \u001b[0;31m[... skipping hidden 1 frame]\u001b[0m\n",
      "Cell \u001b[0;32mIn[5], line 5\u001b[0m\n\u001b[1;32m      3\u001b[0m df \u001b[38;5;241m=\u001b[39m pl\u001b[38;5;241m.\u001b[39mread_delta(\u001b[38;5;124m'\u001b[39m\u001b[38;5;124mdeltalake\u001b[39m\u001b[38;5;124m'\u001b[39m)\n\u001b[0;32m----> 5\u001b[0m \u001b[43mwrite_deltalake\u001b[49m\u001b[43m(\u001b[49m\n\u001b[1;32m      6\u001b[0m \u001b[43m        \u001b[49m\u001b[38;5;124;43m\"\u001b[39;49m\u001b[38;5;124;43ms3://tech-challenge-4/deltalake\u001b[39;49m\u001b[38;5;124;43m\"\u001b[39;49m\u001b[43m,\u001b[49m\n\u001b[1;32m      7\u001b[0m \u001b[43m        \u001b[49m\u001b[43mdf\u001b[49m\u001b[43m,\u001b[49m\n\u001b[1;32m      8\u001b[0m \u001b[43m        \u001b[49m\u001b[43mdescription\u001b[49m\u001b[38;5;241;43m=\u001b[39;49m\u001b[38;5;124;43m\"\u001b[39;49m\u001b[38;5;124;43mTabela do yahoo finance\u001b[39;49m\u001b[38;5;124;43m\"\u001b[39;49m\u001b[43m,\u001b[49m\n\u001b[1;32m      9\u001b[0m \u001b[43m        \u001b[49m\u001b[43mpartition_by\u001b[49m\u001b[38;5;241;43m=\u001b[39;49m\u001b[43m[\u001b[49m\u001b[38;5;124;43m\"\u001b[39;49m\u001b[38;5;124;43munique_id\u001b[39;49m\u001b[38;5;124;43m\"\u001b[39;49m\u001b[43m]\u001b[49m\u001b[43m,\u001b[49m\n\u001b[1;32m     10\u001b[0m \u001b[43m        \u001b[49m\u001b[43mmode\u001b[49m\u001b[38;5;241;43m=\u001b[39;49m\u001b[38;5;124;43m\"\u001b[39;49m\u001b[38;5;124;43mappend\u001b[39;49m\u001b[38;5;124;43m\"\u001b[39;49m\u001b[43m,\u001b[49m\n\u001b[1;32m     11\u001b[0m \u001b[43m        \u001b[49m\u001b[43mstorage_options\u001b[49m\u001b[38;5;241;43m=\u001b[39;49m\u001b[43mminio_config\u001b[49m\u001b[43m,\u001b[49m\n\u001b[1;32m     12\u001b[0m \u001b[43m    \u001b[49m\u001b[43m)\u001b[49m\n",
      "File \u001b[0;32m~/Documents/tech-challenge-4/.venv/lib/python3.11/site-packages/deltalake/writer.py:298\u001b[0m, in \u001b[0;36mwrite_deltalake\u001b[0;34m(table_or_uri, data, schema, partition_by, mode, file_options, max_partitions, max_open_files, max_rows_per_file, min_rows_per_group, max_rows_per_group, name, description, configuration, schema_mode, storage_options, partition_filters, predicate, target_file_size, large_dtypes, engine, writer_properties, custom_metadata, post_commithook_properties, commit_properties)\u001b[0m\n\u001b[1;32m    294\u001b[0m     commit_properties \u001b[38;5;241m=\u001b[39m _commit_properties_from_custom_metadata(\n\u001b[1;32m    295\u001b[0m         commit_properties, custom_metadata\n\u001b[1;32m    296\u001b[0m     )\n\u001b[0;32m--> 298\u001b[0m table, table_uri \u001b[38;5;241m=\u001b[39m \u001b[43mtry_get_table_and_table_uri\u001b[49m\u001b[43m(\u001b[49m\u001b[43mtable_or_uri\u001b[49m\u001b[43m,\u001b[49m\u001b[43m \u001b[49m\u001b[43mstorage_options\u001b[49m\u001b[43m)\u001b[49m\n\u001b[1;32m    299\u001b[0m \u001b[38;5;28;01mif\u001b[39;00m table \u001b[38;5;129;01mis\u001b[39;00m \u001b[38;5;129;01mnot\u001b[39;00m \u001b[38;5;28;01mNone\u001b[39;00m:\n",
      "File \u001b[0;32m~/Documents/tech-challenge-4/.venv/lib/python3.11/site-packages/deltalake/writer.py:761\u001b[0m, in \u001b[0;36mtry_get_table_and_table_uri\u001b[0;34m(table_or_uri, storage_options)\u001b[0m\n\u001b[1;32m    760\u001b[0m \u001b[38;5;28;01mif\u001b[39;00m \u001b[38;5;28misinstance\u001b[39m(table_or_uri, (\u001b[38;5;28mstr\u001b[39m, Path)):\n\u001b[0;32m--> 761\u001b[0m     table \u001b[38;5;241m=\u001b[39m \u001b[43mtry_get_deltatable\u001b[49m\u001b[43m(\u001b[49m\u001b[43mtable_or_uri\u001b[49m\u001b[43m,\u001b[49m\u001b[43m \u001b[49m\u001b[43mstorage_options\u001b[49m\u001b[43m)\u001b[49m\n\u001b[1;32m    762\u001b[0m     table_uri \u001b[38;5;241m=\u001b[39m \u001b[38;5;28mstr\u001b[39m(table_or_uri)\n",
      "File \u001b[0;32m~/Documents/tech-challenge-4/.venv/lib/python3.11/site-packages/deltalake/writer.py:774\u001b[0m, in \u001b[0;36mtry_get_deltatable\u001b[0;34m(table_uri, storage_options)\u001b[0m\n\u001b[1;32m    773\u001b[0m \u001b[38;5;28;01mtry\u001b[39;00m:\n\u001b[0;32m--> 774\u001b[0m     \u001b[38;5;28;01mreturn\u001b[39;00m \u001b[43mDeltaTable\u001b[49m\u001b[43m(\u001b[49m\u001b[43mtable_uri\u001b[49m\u001b[43m,\u001b[49m\u001b[43m \u001b[49m\u001b[43mstorage_options\u001b[49m\u001b[38;5;241;43m=\u001b[39;49m\u001b[43mstorage_options\u001b[49m\u001b[43m)\u001b[49m\n\u001b[1;32m    775\u001b[0m \u001b[38;5;28;01mexcept\u001b[39;00m TableNotFoundError:\n",
      "File \u001b[0;32m~/Documents/tech-challenge-4/.venv/lib/python3.11/site-packages/deltalake/table.py:415\u001b[0m, in \u001b[0;36mDeltaTable.__init__\u001b[0;34m(self, table_uri, version, storage_options, without_files, log_buffer_size)\u001b[0m\n\u001b[1;32m    414\u001b[0m \u001b[38;5;28mself\u001b[39m\u001b[38;5;241m.\u001b[39m_storage_options \u001b[38;5;241m=\u001b[39m storage_options\n\u001b[0;32m--> 415\u001b[0m \u001b[38;5;28mself\u001b[39m\u001b[38;5;241m.\u001b[39m_table \u001b[38;5;241m=\u001b[39m \u001b[43mRawDeltaTable\u001b[49m\u001b[43m(\u001b[49m\n\u001b[1;32m    416\u001b[0m \u001b[43m    \u001b[49m\u001b[38;5;28;43mstr\u001b[39;49m\u001b[43m(\u001b[49m\u001b[43mtable_uri\u001b[49m\u001b[43m)\u001b[49m\u001b[43m,\u001b[49m\n\u001b[1;32m    417\u001b[0m \u001b[43m    \u001b[49m\u001b[43mversion\u001b[49m\u001b[38;5;241;43m=\u001b[39;49m\u001b[43mversion\u001b[49m\u001b[43m,\u001b[49m\n\u001b[1;32m    418\u001b[0m \u001b[43m    \u001b[49m\u001b[43mstorage_options\u001b[49m\u001b[38;5;241;43m=\u001b[39;49m\u001b[43mstorage_options\u001b[49m\u001b[43m,\u001b[49m\n\u001b[1;32m    419\u001b[0m \u001b[43m    \u001b[49m\u001b[43mwithout_files\u001b[49m\u001b[38;5;241;43m=\u001b[39;49m\u001b[43mwithout_files\u001b[49m\u001b[43m,\u001b[49m\n\u001b[1;32m    420\u001b[0m \u001b[43m    \u001b[49m\u001b[43mlog_buffer_size\u001b[49m\u001b[38;5;241;43m=\u001b[39;49m\u001b[43mlog_buffer_size\u001b[49m\u001b[43m,\u001b[49m\n\u001b[1;32m    421\u001b[0m \u001b[43m\u001b[49m\u001b[43m)\u001b[49m\n",
      "\u001b[0;31mOSError\u001b[0m: Generic S3 error: Error after 0 retries in 5.242µs, max_retries:10, retry_timeout:180s, source:builder error for url (http://127.0.0.1:9000/tech-challenge-4/deltalake/_delta_log/_last_checkpoint)",
      "\nDuring handling of the above exception, another exception occurred:\n",
      "\u001b[0;31mKeyboardInterrupt\u001b[0m                         Traceback (most recent call last)",
      "File \u001b[0;32m~/Documents/tech-challenge-4/.venv/lib/python3.11/site-packages/IPython/core/interactiveshell.py:3598\u001b[0m, in \u001b[0;36mInteractiveShell.run_code\u001b[0;34m(self, code_obj, result, async_)\u001b[0m\n\u001b[1;32m   3596\u001b[0m \u001b[38;5;28;01mexcept\u001b[39;00m:\n\u001b[1;32m   3597\u001b[0m     \u001b[38;5;28;01mif\u001b[39;00m result \u001b[38;5;129;01mis\u001b[39;00m \u001b[38;5;129;01mnot\u001b[39;00m \u001b[38;5;28;01mNone\u001b[39;00m:\n\u001b[0;32m-> 3598\u001b[0m         result\u001b[38;5;241m.\u001b[39merror_in_exec \u001b[38;5;241m=\u001b[39m \u001b[43msys\u001b[49m\u001b[38;5;241;43m.\u001b[39;49m\u001b[43mexc_info\u001b[49m\u001b[43m(\u001b[49m\u001b[43m)\u001b[49m[\u001b[38;5;241m1\u001b[39m]\n\u001b[1;32m   3599\u001b[0m     \u001b[38;5;28mself\u001b[39m\u001b[38;5;241m.\u001b[39mshowtraceback(running_compiled_code\u001b[38;5;241m=\u001b[39m\u001b[38;5;28;01mTrue\u001b[39;00m)\n\u001b[1;32m   3600\u001b[0m \u001b[38;5;28;01melse\u001b[39;00m:\n",
      "\u001b[0;31mKeyboardInterrupt\u001b[0m: "
     ]
    }
   ],
   "source": [
    "import polars as pl\n",
    "\n",
    "df = pl.read_delta(\"deltalake\")\n",
    "\n",
    "write_deltalake(\n",
    "    \"s3://tech-challenge-4/deltalake\",\n",
    "    df,\n",
    "    description=\"Tabela do yahoo finance\",\n",
    "    partition_by=[\"unique_id\"],\n",
    "    mode=\"append\",\n",
    "    storage_options=minio_config,\n",
    ")"
   ]
  }
 ],
 "metadata": {
  "kernelspec": {
   "display_name": ".venv",
   "language": "python",
   "name": "python3"
  },
  "language_info": {
   "codemirror_mode": {
    "name": "ipython",
    "version": 3
   },
   "file_extension": ".py",
   "mimetype": "text/x-python",
   "name": "python",
   "nbconvert_exporter": "python",
   "pygments_lexer": "ipython3",
   "version": "3.11.11"
  }
 },
 "nbformat": 4,
 "nbformat_minor": 2
}
